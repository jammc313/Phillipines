{
 "cells": [
  {
   "cell_type": "code",
   "execution_count": 1,
   "metadata": {},
   "outputs": [
    {
     "name": "stdout",
     "output_type": "stream",
     "text": [
      "scikit-allel 1.2.1\n"
     ]
    }
   ],
   "source": [
    "import msprime as msp\n",
    "import random\n",
    "import numpy as np\n",
    "import scipy\n",
    "from scipy import stats\n",
    "import math\n",
    "import pandas\n",
    "import itertools\n",
    "import matplotlib\n",
    "%matplotlib inline\n",
    "import matplotlib.pyplot as plt\n",
    "import seaborn as sns\n",
    "sns.set_style('white')\n",
    "sns.set_style('ticks')\n",
    "import allel; print('scikit-allel', allel.__version__)\n",
    "from allel.stats.misc import jackknife"
   ]
  },
  {
   "cell_type": "markdown",
   "metadata": {},
   "source": [
    "## MSPRIME SIMULATIONS"
   ]
  },
  {
   "cell_type": "markdown",
   "metadata": {},
   "source": [
    "This run, recombination = 1.25 e-8 (equal to mu)\n",
    "This run has 1 run with no replicate simulations, L=250M (large chr 2 sized sample).\n",
    "10 samples per population. The full haplotype matrix is returned.\n",
    "Simulates the coalescent with recombination under the specified model parameters and returns the resulting :class:`tskit.TreeSequence`. Note that Ne is the effective diploid population size (so the effective number of genomes in the population is 2*Ne), but ``sample_size`` is the number of (monoploid) genomes sampled.\n",
    "\n",
    "Source pops related by ...\n",
    "nS vector of sample sizes (monoploid genomes) in each S, i.e. (nS1, nS2, nS3)\n",
    "tS vector ages of samples in each S, i.e. (tS1, tS2, tS3)\n",
    "t12 time of S1,S2 split (first split)\n",
    "t123 time of ((S1, S2), S3) split\n",
    "ta vector of admixture times from S2 and S3 to S1\n",
    "f vector of admixture fractions from from S2 and S3 to S1\n",
    "N vector of effective sizes in order of population numbers\n",
    "L is length of simulated region in bases (set to 250MB here)\n",
    "\n",
    "Here we are looking at admixed segment length distributions, D tests, and % shared archaic SNP blocks between Ayta and Papuan for Neanderthal and Denisovan.\n",
    "The model we are testing is the Null, with a single admixture event from Neanderthal into the shared ancestor of all Non-Africans, and a single Denisovan admixture event into the ancestor of Papuans and Ayta."
   ]
  },
  {
   "cell_type": "code",
   "execution_count": 2,
   "metadata": {},
   "outputs": [
    {
     "name": "stdout",
     "output_type": "stream",
     "text": [
      "==============================\n",
      "Epoch: 0 -- 1840.0 generations\n",
      "==============================\n",
      "     start     end      growth_rate |     0        1        2        3        4        5        6        7        8        9    \n",
      "   -------- --------       -------- | -------- -------- -------- -------- -------- -------- -------- -------- -------- -------- \n",
      "0 | 1.5e+03  1.5e+03              0 |     0        0        0        0        0        0        0        0        0        0    \n",
      "1 | 1.5e+03  1.5e+03              0 |     0        0        0        0        0        0        0        0        0        0    \n",
      "2 | 1.5e+03  1.5e+03              0 |     0        0        0        0        0        0        0        0        0        0    \n",
      "3 | 1.5e+03  1.5e+03              0 |     0        0        0        0        0        0        0        0        0        0    \n",
      "4 | 1.5e+04  1.5e+04              0 |     0        0        0        0        0        0        0        0        0        0    \n",
      "5 |  5e+03    5e+03               0 |     0        0        0        0        0        0        0        0        0        0    \n",
      "6 | 3.5e+03  3.5e+03              0 |     0        0        0        0        0        0        0        0        0        0    \n",
      "7 | 3.5e+03  3.5e+03              0 |     0        0        0        0        0        0        0        0        0        0    \n",
      "8 |  2e+03    2e+03               0 |     0        0        0        0        0        0        0        0        0        0    \n",
      "9 |  3e+04    3e+04               0 |     0        0        0        0        0        0        0        0        0        0    \n",
      "\n",
      "Events @ generation 1840.0\n",
      "   - Mass migration: lineages move from 6 to 7 with probability 1\n",
      "===================================\n",
      "Epoch: 1840.0 -- 2000.0 generations\n",
      "===================================\n",
      "     start     end      growth_rate |     0        1        2        3        4        5        6        7        8        9    \n",
      "   -------- --------       -------- | -------- -------- -------- -------- -------- -------- -------- -------- -------- -------- \n",
      "0 | 1.5e+03  1.5e+03              0 |     0        0        0        0        0        0        0        0        0        0    \n",
      "1 | 1.5e+03  1.5e+03              0 |     0        0        0        0        0        0        0        0        0        0    \n",
      "2 | 1.5e+03  1.5e+03              0 |     0        0        0        0        0        0        0        0        0        0    \n",
      "3 | 1.5e+03  1.5e+03              0 |     0        0        0        0        0        0        0        0        0        0    \n",
      "4 | 1.5e+04  1.5e+04              0 |     0        0        0        0        0        0        0        0        0        0    \n",
      "5 |  5e+03    5e+03               0 |     0        0        0        0        0        0        0        0        0        0    \n",
      "6 | 3.5e+03  3.5e+03              0 |     0        0        0        0        0        0        0        0        0        0    \n",
      "7 | 3.5e+03  3.5e+03              0 |     0        0        0        0        0        0        0        0        0        0    \n",
      "8 |  2e+03    2e+03               0 |     0        0        0        0        0        0        0        0        0        0    \n",
      "9 |  3e+04    3e+04               0 |     0        0        0        0        0        0        0        0        0        0    \n",
      "\n",
      "Events @ generation 2000.0\n",
      "   - Mass migration: lineages move from 7 to 1 with probability 0.04\n",
      "===================================\n",
      "Epoch: 2000.0 -- 2200.0 generations\n",
      "===================================\n",
      "     start     end      growth_rate |     0        1        2        3        4        5        6        7        8        9    \n",
      "   -------- --------       -------- | -------- -------- -------- -------- -------- -------- -------- -------- -------- -------- \n",
      "0 | 1.5e+03  1.5e+03              0 |     0        0        0        0        0        0        0        0        0        0    \n",
      "1 | 1.5e+03  1.5e+03              0 |     0        0        0        0        0        0        0        0        0        0    \n",
      "2 | 1.5e+03  1.5e+03              0 |     0        0        0        0        0        0        0        0        0        0    \n",
      "3 | 1.5e+03  1.5e+03              0 |     0        0        0        0        0        0        0        0        0        0    \n",
      "4 | 1.5e+04  1.5e+04              0 |     0        0        0        0        0        0        0        0        0        0    \n",
      "5 |  5e+03    5e+03               0 |     0        0        0        0        0        0        0        0        0        0    \n",
      "6 | 3.5e+03  3.5e+03              0 |     0        0        0        0        0        0        0        0        0        0    \n",
      "7 | 3.5e+03  3.5e+03              0 |     0        0        0        0        0        0        0        0        0        0    \n",
      "8 |  2e+03    2e+03               0 |     0        0        0        0        0        0        0        0        0        0    \n",
      "9 |  3e+04    3e+04               0 |     0        0        0        0        0        0        0        0        0        0    \n",
      "\n",
      "Events @ generation 2200.0\n",
      "   - Mass migration: lineages move from 7 to 5 with probability 1\n",
      "===================================\n",
      "Epoch: 2200.0 -- 2400.0 generations\n",
      "===================================\n",
      "     start     end      growth_rate |     0        1        2        3        4        5        6        7        8        9    \n",
      "   -------- --------       -------- | -------- -------- -------- -------- -------- -------- -------- -------- -------- -------- \n",
      "0 | 1.5e+03  1.5e+03              0 |     0        0        0        0        0        0        0        0        0        0    \n",
      "1 | 1.5e+03  1.5e+03              0 |     0        0        0        0        0        0        0        0        0        0    \n",
      "2 | 1.5e+03  1.5e+03              0 |     0        0        0        0        0        0        0        0        0        0    \n",
      "3 | 1.5e+03  1.5e+03              0 |     0        0        0        0        0        0        0        0        0        0    \n",
      "4 | 1.5e+04  1.5e+04              0 |     0        0        0        0        0        0        0        0        0        0    \n",
      "5 |  5e+03    5e+03               0 |     0        0        0        0        0        0        0        0        0        0    \n",
      "6 | 3.5e+03  3.5e+03              0 |     0        0        0        0        0        0        0        0        0        0    \n",
      "7 | 3.5e+03  3.5e+03              0 |     0        0        0        0        0        0        0        0        0        0    \n",
      "8 |  2e+03    2e+03               0 |     0        0        0        0        0        0        0        0        0        0    \n",
      "9 |  3e+04    3e+04               0 |     0        0        0        0        0        0        0        0        0        0    \n",
      "\n",
      "Events @ generation 2400.0\n",
      "   - Population parameter change for 5: initial_size -> 2000 growth_rate -> 0 \n",
      "===================================\n",
      "Epoch: 2400.0 -- 2720.0 generations\n",
      "===================================\n",
      "     start     end      growth_rate |     0        1        2        3        4        5        6        7        8        9    \n",
      "   -------- --------       -------- | -------- -------- -------- -------- -------- -------- -------- -------- -------- -------- \n",
      "0 | 1.5e+03  1.5e+03              0 |     0        0        0        0        0        0        0        0        0        0    \n",
      "1 | 1.5e+03  1.5e+03              0 |     0        0        0        0        0        0        0        0        0        0    \n",
      "2 | 1.5e+03  1.5e+03              0 |     0        0        0        0        0        0        0        0        0        0    \n",
      "3 | 1.5e+03  1.5e+03              0 |     0        0        0        0        0        0        0        0        0        0    \n",
      "4 | 1.5e+04  1.5e+04              0 |     0        0        0        0        0        0        0        0        0        0    \n",
      "5 |  2e+03    2e+03               0 |     0        0        0        0        0        0        0        0        0        0    \n",
      "6 | 3.5e+03  3.5e+03              0 |     0        0        0        0        0        0        0        0        0        0    \n",
      "7 | 3.5e+03  3.5e+03              0 |     0        0        0        0        0        0        0        0        0        0    \n",
      "8 |  2e+03    2e+03               0 |     0        0        0        0        0        0        0        0        0        0    \n",
      "9 |  3e+04    3e+04               0 |     0        0        0        0        0        0        0        0        0        0    \n",
      "\n",
      "Events @ generation 2720.0\n",
      "   - Mass migration: lineages move from 5 to 8 with probability 0.02\n",
      "===================================\n",
      "Epoch: 2720.0 -- 2800.0 generations\n",
      "===================================\n",
      "     start     end      growth_rate |     0        1        2        3        4        5        6        7        8        9    \n",
      "   -------- --------       -------- | -------- -------- -------- -------- -------- -------- -------- -------- -------- -------- \n",
      "0 | 1.5e+03  1.5e+03              0 |     0        0        0        0        0        0        0        0        0        0    \n",
      "1 | 1.5e+03  1.5e+03              0 |     0        0        0        0        0        0        0        0        0        0    \n",
      "2 | 1.5e+03  1.5e+03              0 |     0        0        0        0        0        0        0        0        0        0    \n",
      "3 | 1.5e+03  1.5e+03              0 |     0        0        0        0        0        0        0        0        0        0    \n",
      "4 | 1.5e+04  1.5e+04              0 |     0        0        0        0        0        0        0        0        0        0    \n",
      "5 |  2e+03    2e+03               0 |     0        0        0        0        0        0        0        0        0        0    \n",
      "6 | 3.5e+03  3.5e+03              0 |     0        0        0        0        0        0        0        0        0        0    \n",
      "7 | 3.5e+03  3.5e+03              0 |     0        0        0        0        0        0        0        0        0        0    \n",
      "8 |  2e+03    2e+03               0 |     0        0        0        0        0        0        0        0        0        0    \n",
      "9 |  3e+04    3e+04               0 |     0        0        0        0        0        0        0        0        0        0    \n",
      "\n",
      "Events @ generation 2800.0\n",
      "   - Mass migration: lineages move from 5 to 4 with probability 1\n",
      "   - Population parameter change for 5: initial_size -> 5000 growth_rate -> 0 \n",
      "===================================\n",
      "Epoch: 2800.0 -- 8000.0 generations\n",
      "===================================\n",
      "     start     end      growth_rate |     0        1        2        3        4        5        6        7        8        9    \n",
      "   -------- --------       -------- | -------- -------- -------- -------- -------- -------- -------- -------- -------- -------- \n",
      "0 | 1.5e+03  1.5e+03              0 |     0        0        0        0        0        0        0        0        0        0    \n",
      "1 | 1.5e+03  1.5e+03              0 |     0        0        0        0        0        0        0        0        0        0    \n",
      "2 | 1.5e+03  1.5e+03              0 |     0        0        0        0        0        0        0        0        0        0    \n",
      "3 | 1.5e+03  1.5e+03              0 |     0        0        0        0        0        0        0        0        0        0    \n",
      "4 | 1.5e+04  1.5e+04              0 |     0        0        0        0        0        0        0        0        0        0    \n",
      "5 |  5e+03    5e+03               0 |     0        0        0        0        0        0        0        0        0        0    \n",
      "6 | 3.5e+03  3.5e+03              0 |     0        0        0        0        0        0        0        0        0        0    \n",
      "7 | 3.5e+03  3.5e+03              0 |     0        0        0        0        0        0        0        0        0        0    \n",
      "8 |  2e+03    2e+03               0 |     0        0        0        0        0        0        0        0        0        0    \n",
      "9 |  3e+04    3e+04               0 |     0        0        0        0        0        0        0        0        0        0    \n",
      "\n",
      "Events @ generation 8000.0\n",
      "   - Mass migration: lineages move from 1 to 0 with probability 1\n",
      "   - Mass migration: lineages move from 2 to 0 with probability 1\n",
      "====================================\n",
      "Epoch: 8000.0 -- 12000.0 generations\n",
      "====================================\n",
      "     start     end      growth_rate |     0        1        2        3        4        5        6        7        8        9    \n",
      "   -------- --------       -------- | -------- -------- -------- -------- -------- -------- -------- -------- -------- -------- \n",
      "0 | 1.5e+03  1.5e+03              0 |     0        0        0        0        0        0        0        0        0        0    \n",
      "1 | 1.5e+03  1.5e+03              0 |     0        0        0        0        0        0        0        0        0        0    \n",
      "2 | 1.5e+03  1.5e+03              0 |     0        0        0        0        0        0        0        0        0        0    \n",
      "3 | 1.5e+03  1.5e+03              0 |     0        0        0        0        0        0        0        0        0        0    \n",
      "4 | 1.5e+04  1.5e+04              0 |     0        0        0        0        0        0        0        0        0        0    \n",
      "5 |  5e+03    5e+03               0 |     0        0        0        0        0        0        0        0        0        0    \n",
      "6 | 3.5e+03  3.5e+03              0 |     0        0        0        0        0        0        0        0        0        0    \n",
      "7 | 3.5e+03  3.5e+03              0 |     0        0        0        0        0        0        0        0        0        0    \n",
      "8 |  2e+03    2e+03               0 |     0        0        0        0        0        0        0        0        0        0    \n",
      "9 |  3e+04    3e+04               0 |     0        0        0        0        0        0        0        0        0        0    \n",
      "\n",
      "Events @ generation 12000.0\n",
      "   - Mass migration: lineages move from 0 to 3 with probability 1\n",
      "=====================================\n",
      "Epoch: 12000.0 -- 16000.0 generations\n",
      "=====================================\n",
      "     start     end      growth_rate |     0        1        2        3        4        5        6        7        8        9    \n",
      "   -------- --------       -------- | -------- -------- -------- -------- -------- -------- -------- -------- -------- -------- \n",
      "0 | 1.5e+03  1.5e+03              0 |     0        0        0        0        0        0        0        0        0        0    \n",
      "1 | 1.5e+03  1.5e+03              0 |     0        0        0        0        0        0        0        0        0        0    \n",
      "2 | 1.5e+03  1.5e+03              0 |     0        0        0        0        0        0        0        0        0        0    \n",
      "3 | 1.5e+03  1.5e+03              0 |     0        0        0        0        0        0        0        0        0        0    \n",
      "4 | 1.5e+04  1.5e+04              0 |     0        0        0        0        0        0        0        0        0        0    \n",
      "5 |  5e+03    5e+03               0 |     0        0        0        0        0        0        0        0        0        0    \n",
      "6 | 3.5e+03  3.5e+03              0 |     0        0        0        0        0        0        0        0        0        0    \n",
      "7 | 3.5e+03  3.5e+03              0 |     0        0        0        0        0        0        0        0        0        0    \n",
      "8 |  2e+03    2e+03               0 |     0        0        0        0        0        0        0        0        0        0    \n",
      "9 |  3e+04    3e+04               0 |     0        0        0        0        0        0        0        0        0        0    \n",
      "\n",
      "Events @ generation 16000.0\n",
      "   - Mass migration: lineages move from 8 to 3 with probability 1\n",
      "=====================================\n",
      "Epoch: 16000.0 -- 24000.0 generations\n",
      "=====================================\n",
      "     start     end      growth_rate |     0        1        2        3        4        5        6        7        8        9    \n",
      "   -------- --------       -------- | -------- -------- -------- -------- -------- -------- -------- -------- -------- -------- \n",
      "0 | 1.5e+03  1.5e+03              0 |     0        0        0        0        0        0        0        0        0        0    \n",
      "1 | 1.5e+03  1.5e+03              0 |     0        0        0        0        0        0        0        0        0        0    \n",
      "2 | 1.5e+03  1.5e+03              0 |     0        0        0        0        0        0        0        0        0        0    \n",
      "3 | 1.5e+03  1.5e+03              0 |     0        0        0        0        0        0        0        0        0        0    \n",
      "4 | 1.5e+04  1.5e+04              0 |     0        0        0        0        0        0        0        0        0        0    \n",
      "5 |  5e+03    5e+03               0 |     0        0        0        0        0        0        0        0        0        0    \n",
      "6 | 3.5e+03  3.5e+03              0 |     0        0        0        0        0        0        0        0        0        0    \n",
      "7 | 3.5e+03  3.5e+03              0 |     0        0        0        0        0        0        0        0        0        0    \n",
      "8 |  2e+03    2e+03               0 |     0        0        0        0        0        0        0        0        0        0    \n",
      "9 |  3e+04    3e+04               0 |     0        0        0        0        0        0        0        0        0        0    \n",
      "\n",
      "Events @ generation 24000.0\n",
      "   - Mass migration: lineages move from 3 to 4 with probability 1\n",
      "======================================\n",
      "Epoch: 24000.0 -- 160000.0 generations\n",
      "======================================\n",
      "     start     end      growth_rate |     0        1        2        3        4        5        6        7        8        9    \n",
      "   -------- --------       -------- | -------- -------- -------- -------- -------- -------- -------- -------- -------- -------- \n",
      "0 | 1.5e+03  1.5e+03              0 |     0        0        0        0        0        0        0        0        0        0    \n",
      "1 | 1.5e+03  1.5e+03              0 |     0        0        0        0        0        0        0        0        0        0    \n",
      "2 | 1.5e+03  1.5e+03              0 |     0        0        0        0        0        0        0        0        0        0    \n",
      "3 | 1.5e+03  1.5e+03              0 |     0        0        0        0        0        0        0        0        0        0    \n",
      "4 | 1.5e+04  1.5e+04              0 |     0        0        0        0        0        0        0        0        0        0    \n",
      "5 |  5e+03    5e+03               0 |     0        0        0        0        0        0        0        0        0        0    \n",
      "6 | 3.5e+03  3.5e+03              0 |     0        0        0        0        0        0        0        0        0        0    \n",
      "7 | 3.5e+03  3.5e+03              0 |     0        0        0        0        0        0        0        0        0        0    \n",
      "8 |  2e+03    2e+03               0 |     0        0        0        0        0        0        0        0        0        0    \n",
      "9 |  3e+04    3e+04               0 |     0        0        0        0        0        0        0        0        0        0    \n",
      "\n",
      "Events @ generation 160000.0\n",
      "   - Mass migration: lineages move from 4 to 9 with probability 1\n",
      "==================================\n",
      "Epoch: 160000.0 -- inf generations\n",
      "==================================\n",
      "     start     end      growth_rate |     0        1        2        3        4        5        6        7        8        9    \n",
      "   -------- --------       -------- | -------- -------- -------- -------- -------- -------- -------- -------- -------- -------- \n",
      "0 | 1.5e+03  1.5e+03              0 |     0        0        0        0        0        0        0        0        0        0    \n",
      "1 | 1.5e+03  1.5e+03              0 |     0        0        0        0        0        0        0        0        0        0    \n",
      "2 | 1.5e+03  1.5e+03              0 |     0        0        0        0        0        0        0        0        0        0    \n",
      "3 | 1.5e+03  1.5e+03              0 |     0        0        0        0        0        0        0        0        0        0    \n",
      "4 | 1.5e+04  1.5e+04              0 |     0        0        0        0        0        0        0        0        0        0    \n",
      "5 |  5e+03    5e+03               0 |     0        0        0        0        0        0        0        0        0        0    \n",
      "6 | 3.5e+03  3.5e+03              0 |     0        0        0        0        0        0        0        0        0        0    \n",
      "7 | 3.5e+03  3.5e+03              0 |     0        0        0        0        0        0        0        0        0        0    \n",
      "8 |  2e+03    2e+03               0 |     0        0        0        0        0        0        0        0        0        0    \n",
      "9 |  3e+04    3e+04               0 |     0        0        0        0        0        0        0        0        0        0    \n",
      "\n"
     ]
    }
   ],
   "source": [
    "# enter functions\n",
    "\n",
    "DEN0, DEN1, DEN2, DEN3, AFR, CEU, PAP, AYT, NEA, CHM = 0, 1, 2, 3, 4, 5, 6, 7, 8, 9\n",
    "\n",
    "\n",
    "def set_up_pops(nS, tS):\n",
    "    #historical series within pop S1\n",
    "    samples = [msp.Sample(population=DEN0, time=tS[0])]*(1*nS[0]) # Denisovan 0\n",
    "    samples.extend([msp.Sample(population=DEN1, time=tS[0])]*(1*nS[1])) # Denisovan 1\n",
    "    samples.extend([msp.Sample(population=DEN2, time=tS[0])]*(1*nS[2])) # Denisovan 2\n",
    "    samples.extend([msp.Sample(population=DEN3, time=tS[1])]*(1*nS[3])) # Denisovan 3 (Altai)\n",
    "    samples.extend([msp.Sample(population=AFR, time=tS[0])]*(1*nS[4])) # Africa\n",
    "    samples.extend([msp.Sample(population=CEU, time=tS[0])]*(1*nS[5])) # European\n",
    "    samples.extend([msp.Sample(population=PAP, time=tS[0])]*(1*nS[6])) # Papuan\n",
    "    samples.extend([msp.Sample(population=AYT, time=tS[0])]*(1*nS[7])) # Negrito (Ayta)\n",
    "    samples.extend([msp.Sample(population=NEA, time=tS[2])]*(1*nS[8])) # Neanderthal\n",
    "    samples.extend([msp.Sample(population=CHM, time=tS[0])]*(1*nS[9])) # Chimp\n",
    "    return samples\n",
    "\n",
    "\n",
    "def set_up_demography(t67, t75, t54, t10, t20, t03, t83, t34, t49, ta1, ta2, ta3, f):\n",
    "    #divergence of source populations (topology of tree)\n",
    "    source_divergence = [msp.MassMigration(time=t67, source=PAP, destination=AYT, proportion=1),  \n",
    "                        msp.MassMigration(time=t75, source=AYT, destination=CEU, proportion=1), \n",
    "                        msp.MassMigration(time=t54, source=CEU, destination=AFR, proportion=1), \n",
    "                        msp.MassMigration(time=t10, source=DEN1, destination=DEN0, proportion=1), \n",
    "                        msp.MassMigration(time=t20, source=DEN2, destination=DEN0, proportion=1),\n",
    "                        msp.MassMigration(time=t03, source=DEN0, destination=DEN3, proportion=1),\n",
    "                        msp.MassMigration(time=t83, source=NEA, destination=DEN3, proportion=1),\n",
    "                        msp.MassMigration(time=t34, source=DEN3, destination=AFR, proportion=1),\n",
    "                        msp.MassMigration(time=t49, source=AFR, destination=CHM, proportion=1)] \n",
    "    #admixture times and proportions\n",
    "    admix = [msp.MassMigration(time=ta2, source=AYT, destination=DEN1, proportion=f[0]), #fraction from Denisovan 1 to Negrito/Papuan\n",
    "            msp.MassMigration(time=ta3, source=CEU, destination=NEA, proportion=f[1])] #fraction from Neanderthal to OoA pops\n",
    "    #population parameter changes\n",
    "    N_change = [msp.PopulationParametersChange(time=2400, initial_size=2000, growth_rate=0, population_id=CEU),\n",
    "               msp.PopulationParametersChange(time=2800, initial_size=5000, growth_rate=0, population_id=CEU)]\n",
    "    #combine and sort the demography\n",
    "    demography = source_divergence + admix + N_change\n",
    "    return sorted(demography, key = lambda x: x.time)\n",
    "\n",
    "\n",
    "# Enter data\n",
    "L=100000000\n",
    "mu=1.25e-8\n",
    "r=1.25e-8\n",
    "\n",
    "generation_time=25\n",
    "T67=46000/generation_time  # PAP joins AYT  \n",
    "T75=55000/generation_time  # AYT joins CEU \n",
    "T54=70000/generation_time  # CEU joins AFR\n",
    "T10=200000/generation_time # Denisovan 1 joins Denisovan 0\n",
    "T20=200000/generation_time # Denisovan 2 joins Denisovan 0 \n",
    "T03=300000/generation_time # Denisovan 0 joins Denisovan 3 (Altai) \n",
    "T83=400000/generation_time # Neanderthal joins Denisovan 3 (Altai) \n",
    "T34=600000/generation_time # Denisovan 3 (Altai) joins AFR\n",
    "T49=4000000/generation_time # AFR joins Chimp\n",
    " \n",
    "TA1=40000/generation_time   \n",
    "TA2=50000/generation_time   \n",
    "TA3=68000/generation_time   \n",
    "\n",
    "TS_NEA=60000/generation_time\n",
    "TS_DEN3=40000/generation_time\n",
    "\n",
    "NumSamples=100\n",
    "nS=[10]*10\n",
    "tS=[0,TS_DEN3,TS_NEA]\n",
    "f=[0.04, 0.02]\n",
    "N=[1500,1500,1500,1500,15000,5000,3500,3500,2000,30000]\n",
    "seed=None\n",
    "\n",
    "samples = set_up_pops(nS,tS)\n",
    "demography = set_up_demography(T67, T75, T54, T10, T20, T03, T83, T34, T49, TA1, TA2, TA3, f)\n",
    "pops = [msp.PopulationConfiguration(initial_size = n) for n in N]\n",
    "\n",
    "# Use demography debugger for sanity check that you are simulating correct demography\n",
    "dd = msp.DemographyDebugger(\n",
    "    population_configurations=pops,\n",
    "    demographic_events=demography)\n",
    "dd.print_history()"
   ]
  },
  {
   "cell_type": "markdown",
   "metadata": {},
   "source": [
    "# run simulations"
   ]
  },
  {
   "cell_type": "code",
   "execution_count": 3,
   "metadata": {},
   "outputs": [],
   "source": [
    "sims = msp.simulate(samples=samples, Ne=N[0], population_configurations=pops, demographic_events=demography, mutation_rate=mu, length=L, recombination_rate=r, record_migrations=True, random_seed=seed)"
   ]
  },
  {
   "cell_type": "markdown",
   "metadata": {},
   "source": [
    "# Comparing genuine segments from admixture events\n",
    "## function to get set of tracts that migrated during admixture events \n",
    "## DEN1 = tracts migrating from shared ancestor of Ayta/Papuan into Denisovan 1\n",
    "## NEA = tracts migrating from shared ancestor of Ayta/Papuan into Neanderthal"
   ]
  },
  {
   "cell_type": "code",
   "execution_count": 43,
   "metadata": {},
   "outputs": [
    {
     "data": {
      "image/png": "[encoded data removed]",
      "text/plain": [
       "<Figure size 432x288 with 1 Axes>"
      ]
     },
     "metadata": {},
     "output_type": "display_data"
    }
   ],
   "source": [
    "def get_mig_segs(ts):\n",
    "    mig_segs_DEN_ayt, mig_segs_DEN_pap, mig_segs_NEA_ayt, mig_segs_NEA_pap = [], [], [], []\n",
    "    # Get all tracts that migrated into the archaic populations\n",
    "    den_nd = []\n",
    "    nea_nd = []\n",
    "    for migration in ts.migrations():\n",
    "            if migration.dest == DEN1:\n",
    "                den_nd.append((migration.left, migration.right, migration.node))\n",
    "            elif migration.dest == NEA:\n",
    "                nea_nd.append((migration.left, migration.right, migration.node))\n",
    "    for seg in den_nd: \n",
    "        seg_node = seg[2]\n",
    "        if sims.tables.nodes[seg_node].population == 6:\n",
    "            mig_segs_DEN_pap.append(seg)\n",
    "        elif sims.tables.nodes[seg_node].population == 7:\n",
    "            mig_segs_DEN_ayt.append(seg)\n",
    "    for seg in nea_nd: \n",
    "        seg_node = seg[2]\n",
    "        if sims.tables.nodes[seg_node].population == 6:\n",
    "            mig_segs_NEA_pap.append(seg)\n",
    "        elif sims.tables.nodes[seg_node].population == 7:\n",
    "            mig_segs_NEA_ayt.append(seg)\n",
    "    return np.array(mig_segs_DEN_ayt), np.array(mig_segs_DEN_pap), np.array(mig_segs_NEA_ayt), np.array(mig_segs_NEA_pap)  \n",
    "            \n",
    "mig_segs_DEN_AYT, mig_segs_DEN_PAP, mig_segs_NEA_AYT, mig_segs_NEA_PAP  = get_mig_segs(sims)\n",
    "np.savetxt('NULL_MigTracts_DEN_AYT.txt', mig_segs_DEN_AYT)\n",
    "np.savetxt('NULL_MigTracts_DEN_PAP.txt', mig_segs_DEN_PAP)\n",
    "np.savetxt('NULL_MigTracts_NEA_AYT.txt', mig_segs_NEA_AYT)\n",
    "np.savetxt('NULL_MigTracts_NEA_PAP.txt', mig_segs_NEA_PAP)              \n",
    "\n",
    "# Compare length distributions of admixing segments\n",
    "\n",
    "# plot length distribitions of migrating tracts\n",
    "\n",
    "kb = 1 / 1000\n",
    "plt.hist([\n",
    "    (mig_segs_DEN_AYT[:,1] - mig_segs_DEN_AYT[:,0]) * kb,\n",
    "    (mig_segs_DEN_PAP[:,1] - mig_segs_DEN_PAP[:,0]) * kb,\n",
    "    (mig_segs_NEA_AYT[:,1] - mig_segs_NEA_AYT[:,0]) * kb,\n",
    "    (mig_segs_NEA_PAP[:,1] - mig_segs_NEA_PAP[:,0]) * kb],\n",
    "    label=[\"DEN Tracts in AYT\", \"DEN Tracts in PAP\", \"NEA Tracts in AYT\", \"NEA Tracts in PAP\"]\n",
    ")\n",
    "plt.yscale('log')\n",
    "plt.legend()\n",
    "plt.xlabel(\"Tract length (KB)\")\n",
    "plt.ylabel(\"Tract density\")\n",
    "plt.ylim(0,1500)\n",
    "plt.savefig('plot_NULL_tract_distribution.pdf', dpi=600, bbox_inches='tight')"
   ]
  },
  {
   "cell_type": "code",
   "execution_count": 35,
   "metadata": {},
   "outputs": [
    {
     "data": {
      "image/png": "[encoded data removed]",
      "text/plain": [
       "<Figure size 648x576 with 1 Axes>"
      ]
     },
     "metadata": {},
     "output_type": "display_data"
    }
   ],
   "source": [
    "## want to look at average length of DEN tract lengths unique to Ayta, unique to Papuan, and shared between each\n",
    "## plot mean number and tract lengths from each (means and SE across 10 runs)\n",
    "\n",
    "def plot_mean_tract_lengths(den_ayt, den_pap, nea_ayt, nea_pap, title=None):\n",
    "    mean_tract_den_ayt = np.mean(den_ayt[:,1] - den_ayt[:,0], axis=0).astype(int)\n",
    "    mean_tract_den_pap = np.mean(den_pap[:,1] - den_pap[:,0], axis=0).astype(int)\n",
    "    mean_tract_nea_ayt = np.mean(nea_ayt[:,1] - nea_ayt[:,0], axis=0).astype(int)\n",
    "    mean_tract_nea_pap = np.mean(nea_pap[:,1] - nea_pap[:,0], axis=0).astype(int)\n",
    "    x = ['Denisovan AYT','Denisovan PAP','Neanderthal AYT','Neanderthal PAP']\n",
    "    y = [mean_tract_den_ayt, mean_tract_den_pap, mean_tract_nea_ayt, mean_tract_nea_pap]\n",
    "    fig, ax = plt.subplots(figsize=(9, 8))\n",
    "    sns.despine(ax=ax, offset=10)\n",
    "    ax.plot(x, y, 'ro')\n",
    "    ax.set_xlabel('Archaic Tracts')\n",
    "    ax.set_ylabel('Mean tract length')\n",
    "    ax.set_ylim(10000,45000)\n",
    "    if title:\n",
    "        ax.set_title(title)     \n",
    "    \n",
    "plot_mean_tract_lengths(mig_segs_DEN_AYT, mig_segs_DEN_PAP, mig_segs_NEA_AYT, mig_segs_NEA_PAP, title='Mean tract length')"
   ]
  },
  {
   "cell_type": "markdown",
   "metadata": {},
   "source": [
    "# Comparing putatively assigned \"SNP tracts\"\n",
    "\n",
    "## Get dataset\n",
    "## get whole haplotype array for 90 samples (10 per pop), add columns for variant ID and pos "
   ]
  },
  {
   "cell_type": "code",
   "execution_count": null,
   "metadata": {},
   "outputs": [],
   "source": [
    "# function to get copy of dataset\n",
    "def get_dataset(sim_mat):\n",
    "    mat_full = np.zeros((sim_mat.shape[0],sim_mat.shape[1]+2))\n",
    "    mat_full[:, 2:] = sim_mat\n",
    "    return mat_full\n",
    "\n",
    "geno_mat_info = get_dataset(sims.genotype_matrix())\n",
    "\n",
    "for variant in sims.variants():\n",
    "        geno_mat_info[variant.site.id,0]=variant.site.id+1\n",
    "        geno_mat_info[variant.site.id,1]=variant.site.position"
   ]
  },
  {
   "cell_type": "code",
   "execution_count": null,
   "metadata": {},
   "outputs": [],
   "source": [
    "# function to downsample full haplotype array to ordered and sorted panel of 0.25M SNPs (will lead to 250 blocks)\n",
    "# addition of chimp lineage means many SNPs now completely derived or ancestral in all modern samples. Remove these.\n",
    "\n",
    "def downsample_sort(big_arr, size):\n",
    "    all_anc_index = big_arr[:,42:82].sum(axis=1)!=0     # index SNPs ancestral in all modern pop samples\n",
    "    sub_arr1 = big_arr[all_anc_index,:]\n",
    "    all_der_index = sub_arr1[:,42:82].sum(axis=1)!=40    # index SNPs derived in all modern pop samples\n",
    "    sub_arr2 = sub_arr1[all_der_index,:]\n",
    "\n",
    "    sub_arr3 = sub_arr2[np.random.choice(sub_arr2.shape[0], size, replace=False)]    # Downsample to panel of given SNPs\n",
    "    sort_arr = sub_arr3[sub_arr3[:,0].argsort()] # sort based on first column (SNP index)\n",
    "    return sort_arr\n",
    "\n",
    "geno_mat_sub_ord = downsample_sort(geno_mat_info.astype(int), 250000)\n",
    "geno_mat_sub_ord[:,0] = np.arange(1,250001)"
   ]
  },
  {
   "cell_type": "code",
   "execution_count": null,
   "metadata": {},
   "outputs": [],
   "source": [
    "# Function uses all 10 samples per pop to get allele counts for estimating D stats\n",
    "# input data need to be of scikit.allel form 'AlleleCountsArray' for each population, with each SNP represented by number of anc & der alleles\n",
    "# function to take haplotype array and count alleles in each population sample of 5 diploids: \n",
    "\n",
    "def pop_sample_ac(geno_mat):\n",
    "    haplo_arr = allel.HaplotypeArray(geno_mat)\n",
    "    ac_one = haplo_arr[:,0:10].count_alleles()\n",
    "    ac_two = haplo_arr[:,10:20].count_alleles()\n",
    "    ac_three = haplo_arr[:,20:30].count_alleles()\n",
    "    ac_four = haplo_arr[:,30:40].count_alleles()\n",
    "    ac_five = haplo_arr[:,40:50].count_alleles()\n",
    "    ac_six = haplo_arr[:,50:60].count_alleles()\n",
    "    ac_seven = haplo_arr[:,60:70].count_alleles()\n",
    "    ac_eight = haplo_arr[:,70:80].count_alleles()\n",
    "    ac_nine = haplo_arr[:,80:90].count_alleles()\n",
    "    ac_ten = haplo_arr[:,90:100].count_alleles()\n",
    "    # stack arrays with frames = population allele counts for all SNPs\n",
    "    arrays = [ac_one,ac_two,ac_three,ac_four,ac_five,ac_six,ac_seven,ac_eight,ac_nine,ac_ten]\n",
    "    ac_All = np.stack(arrays, axis=0)\n",
    "    return ac_All\n",
    "\n",
    "ac_AllSamples = pop_sample_ac(geno_mat_sub_ord[:, 2:].astype(int))\n",
    "\n",
    "# make index array of relevant populations for different D test comparisons (D{AFR,DEN3;AYT/PAP,CEU})\n",
    "D_test_index = np.array([[4,3,5,7],[4,3,5,6]])   # may need to turn order of Ayta/Papua (7/6) and CEU (5)\n",
    "\n",
    "# array to take D test results output for all above comparisons, returns d,se,z\n",
    "D_mean_arr = np.array([(allel.average_patterson_d(ac_AllSamples[x[0]], ac_AllSamples[x[1]], ac_AllSamples[x[2]], ac_AllSamples[x[3]], 1000)[0:3]) for x in D_test_index])"
   ]
  },
  {
   "cell_type": "markdown",
   "metadata": {},
   "source": [
    "# Perform overall D test "
   ]
  },
  {
   "cell_type": "code",
   "execution_count": null,
   "metadata": {},
   "outputs": [],
   "source": [
    "# Define function to plot mean D results across 10 runs \n",
    "def plot_D_average(res_array, title=None):\n",
    "    x = ['AFR,DENISOVAN(ALTAI);CEU,AYT','AFR,DENISOVAN(ALTAI);CEU,PAP']\n",
    "    y = res_array[0:2,0]\n",
    "    sterr = res_array[0:2,1]*1.96\n",
    "    fig, ax = plt.subplots(figsize=(9, 6))\n",
    "    sns.despine(ax=ax, offset=10)\n",
    "    ax.errorbar(x, y, yerr=sterr)\n",
    "    ax.set(ylim=(0.05, 0.30))\n",
    "    ax.set_xlabel('D test comparison')\n",
    "    ax.set_ylabel('Mean D test value')\n",
    "    if title:\n",
    "        ax.set_title(title)\n",
    "\n",
    "# overall D test comparison\n",
    "plot_D_average(D_mean_arr, title='overall D test estimates')"
   ]
  },
  {
   "cell_type": "code",
   "execution_count": null,
   "metadata": {},
   "outputs": [],
   "source": [
    "# Divide the allele count array up into 250 blocks of 1000 SNPs for each of the 10 pop samples.\n",
    "# perform mean patterson D test (jackknife=100) on given populations for each block\n",
    "\n",
    "def get_D_test_blocks(ac_arr,pop1,pop2,pop3,pop4):\n",
    "    arr_tp1 = np.transpose(ac_arr, (1,0,2))    # order SNPS,INDS,AC\n",
    "    arr_rshp = arr_tp1.reshape(250,1000,10,2)    # reshape with 250 blocks\n",
    "    arr_tp2 = np.transpose(arr_rshp, (0,2,1,3))    # transpose again in preparation for D tests\n",
    "    mean_D_blocks = np.array([(allel.average_patterson_d(block[pop1], block[pop2], block[pop3], block[pop4], 100)[0:3]) for block in arr_tp2])\n",
    "    return mean_D_blocks\n",
    "\n",
    "# For each block returns: meanD, se, z"
   ]
  },
  {
   "cell_type": "markdown",
   "metadata": {},
   "source": [
    "## ASSIGNING PUTATIVE DENISOVAN BLOCKS"
   ]
  },
  {
   "cell_type": "code",
   "execution_count": null,
   "metadata": {},
   "outputs": [],
   "source": [
    "# First test for Denisovan ancestry in each block for Ayta\n",
    "D1_res_AYT = get_D_test_blocks(ac_AllSamples,AFR,DEN3,CEU,AYT)"
   ]
  },
  {
   "cell_type": "code",
   "execution_count": null,
   "metadata": {},
   "outputs": [],
   "source": [
    "# Define function to quickly plot Z score results and check sufficient are > 3\n",
    "def plot_Z_scores(D_array, title=None):\n",
    "    bins =  np.arange(0, 251)\n",
    "    x = (bins[1:] + bins[:-1])/2    # use block midpoints as x-coordinates\n",
    "    y = D_array[:,2]\n",
    "    fig, ax = plt.subplots(figsize=(12, 3))\n",
    "    sns.despine(ax=ax, offset=10)\n",
    "    ax.plot(x, y)\n",
    "    ax.axhline(3, color='green')\n",
    "    ax.set_xlabel('SNP block')\n",
    "    ax.set_ylabel('Z score value')\n",
    "    if title:\n",
    "        ax.set_title(title)\n",
    "\n",
    "# Plot blockwise z scores for AYT\n",
    "plot_Z_scores(D1_res_AYT, title='Blockwise D test Z scores')"
   ]
  },
  {
   "cell_type": "code",
   "execution_count": null,
   "metadata": {},
   "outputs": [],
   "source": [
    "# Now test for Denisovan ancestry in each block for Papuan\n",
    "D1_res_PAP = get_D_test_blocks(ac_AllSamples,AFR,DEN3,CEU,PAP)\n",
    "\n",
    "# Plotted blockwise Z score results should have less than AYT > 3\n",
    "plot_Z_scores(D1_res_PAP, title='Blockwise D test Z scores')"
   ]
  },
  {
   "cell_type": "code",
   "execution_count": null,
   "metadata": {},
   "outputs": [],
   "source": [
    "# Now the second D test. If a block is positive from this and overlaps with a > 3 z score in previous D test,\n",
    "# we assign Denisovan ancestry\n",
    "D2_res_AYT = get_D_test_blocks(ac_AllSamples,AFR,AYT,NEA,DEN3)\n",
    "\n",
    "# Define function to quickly plot mean D results \n",
    "def plot_meanD(D_array, title=None):\n",
    "    bins =  np.arange(0, 251)\n",
    "    x = (bins[1:] + bins[:-1])/2    # use block midpoints as x-coordinates\n",
    "    y = D_array[:,0]\n",
    "    fig, ax = plt.subplots(figsize=(12, 3))\n",
    "    sns.despine(ax=ax, offset=10)\n",
    "    ax.plot(x, y)\n",
    "    ax.axhline(0, color='green')\n",
    "    ax.set_xlabel('SNP block')\n",
    "    ax.set_ylabel('D test value')\n",
    "    if title:\n",
    "        ax.set_title(title)\n",
    "\n",
    "# Plot blockwise z scores for given D test\n",
    "\n",
    "plot_meanD(D2_res_AYT, title='Blockwise mean D test values')"
   ]
  },
  {
   "cell_type": "code",
   "execution_count": null,
   "metadata": {},
   "outputs": [],
   "source": [
    "# Do the same for Papuan\n",
    "D2_res_PAP = get_D_test_blocks(ac_AllSamples,AFR,PAP,NEA,DEN3)\n",
    "\n",
    "plot_meanD(D2_res_PAP, title='Blockwise mean D test values')"
   ]
  },
  {
   "cell_type": "code",
   "execution_count": null,
   "metadata": {},
   "outputs": [],
   "source": [
    "# If a block has a z-score > +3 in D1, and a positive D value in D2. Assign Denisovan ancestry to it.\n",
    "\n",
    "def get_DEN_blocks(d1_PAP, d1_AYT, d2_PAP, d2_AYT):\n",
    "    put_DEN_PAP = (d1_PAP[:,2] >= 3) & (d2_PAP[:,0] > 0)\n",
    "    put_DEN_AYT = (d1_AYT[:,2] >= 3) & (d2_AYT[:,0] > 0)\n",
    "    DEN_blocks_PAP = np.sum(put_DEN_PAP)\n",
    "    DEN_blocks_AYT = np.sum(put_DEN_AYT)\n",
    "    total_DEN_blocks = DEN_blocks_PAP + DEN_blocks_AYT\n",
    "    shared_DEN_blocks = np.sum((put_DEN_PAP == True) & (put_DEN_AYT == True)) / total_DEN_blocks * 100\n",
    "\n",
    "    return shared_DEN_blocks, DEN_blocks_PAP, DEN_blocks_AYT\n",
    "\n",
    "shared_DEN_PAPvsAYT, putative_DEN_PAP, putative_DEN_AYT = get_DEN_blocks(D1_res_PAP, D1_res_AYT, D2_res_PAP, D2_res_AYT)"
   ]
  },
  {
   "cell_type": "code",
   "execution_count": null,
   "metadata": {},
   "outputs": [],
   "source": [
    "# Percentage shared putative Denisovan blocks between Papuan & Ayta\n",
    "shared_DEN_PAPvsAYT"
   ]
  },
  {
   "cell_type": "code",
   "execution_count": null,
   "metadata": {},
   "outputs": [],
   "source": [
    "# Number putative Denisovan blocks in Papuan\n",
    "putative_DEN_PAP"
   ]
  },
  {
   "cell_type": "code",
   "execution_count": null,
   "metadata": {},
   "outputs": [],
   "source": [
    "# Number putative Denisovan blocks in Ayta\n",
    "putative_DEN_AYT"
   ]
  },
  {
   "cell_type": "markdown",
   "metadata": {},
   "source": [
    "## ASSIGNING PUTATIVE NEANDERTHAL BLOCKS"
   ]
  },
  {
   "cell_type": "code",
   "execution_count": null,
   "metadata": {},
   "outputs": [],
   "source": [
    "# First test for Neanderthal ancestry in each block in Ayta\n",
    "D3_res_AYT = get_D_test_blocks(ac_AllSamples,CHM,NEA,AFR,AYT)\n",
    "\n",
    "# as a quick check, plot Z scores to make sure a decent number are > 3\n",
    "# Plot blockwise z scores for given D test\n",
    "\n",
    "plot_Z_scores(D3_res_AYT, title='Blockwise D test Z scores')"
   ]
  },
  {
   "cell_type": "code",
   "execution_count": null,
   "metadata": {},
   "outputs": [],
   "source": [
    "# First test for Neanderthal ancestry in each block in Papuan\n",
    "D3_res_PAP = get_D_test_blocks(ac_AllSamples,CHM,NEA,AFR,PAP)\n",
    "\n",
    "# as a quick check, plot Z scores to make sure similar Neanderthal ancestry as AYT (probably lower)\n",
    "plot_Z_scores(D3_res_PAP, title='Blockwise D test Z scores')"
   ]
  },
  {
   "cell_type": "code",
   "execution_count": null,
   "metadata": {},
   "outputs": [],
   "source": [
    "# Do the 2nd D test. If a block is negative from this & overlaps with a > 3 z score in last test, assign Neanderthal\n",
    "D4_res_AYT = get_D_test_blocks(ac_AllSamples,AFR,AYT,NEA,DEN3)\n",
    "\n",
    "# Plot blockwise z scores for given D test\n",
    "plot_meanD(D4_res_AYT, title='Blockwise mean D test values')"
   ]
  },
  {
   "cell_type": "code",
   "execution_count": null,
   "metadata": {},
   "outputs": [],
   "source": [
    "# The same for Papuan. \n",
    "D4_res_PAP = get_D_test_blocks(ac_AllSamples,AFR,PAP,NEA,DEN3)\n",
    "plot_meanD(D4_res_PAP, title='Blockwise mean D test values')"
   ]
  },
  {
   "cell_type": "code",
   "execution_count": null,
   "metadata": {},
   "outputs": [],
   "source": [
    "# Function to assign putative Neanderthal blocks per population.\n",
    "\n",
    "def get_NEA_blocks(d3_PAP, d3_AYT, d4_PAP, d4_AYT):\n",
    "    put_NEA_PAP = (d3_PAP[:,2] >= 3) & (d4_PAP[:,0] < 0)    # assign NEA if first D test has z-score >3 and 2nd D test has negative D value\n",
    "    put_NEA_AYT = (d3_AYT[:,2] >= 3) & (d4_AYT[:,0] < 0)\n",
    "    NEA_blocks_PAP = np.sum(put_NEA_PAP)\n",
    "    NEA_blocks_AYT = np.sum(put_NEA_AYT)\n",
    "    total_NEA_blocks = NEA_blocks_PAP + NEA_blocks_AYT\n",
    "    shared_NEA_blocks = np.sum((put_NEA_PAP == True) & (put_NEA_AYT == True)) / total_NEA_blocks * 100   # get % of blocks that are True in both\n",
    "    return shared_NEA_blocks, NEA_blocks_PAP, NEA_blocks_AYT\n",
    "\n",
    "shared_NEA_PAPvsAYT, putative_NEA_PAP, putative_NEA_AYT = get_NEA_blocks(D3_res_PAP, D3_res_AYT, D4_res_PAP, D4_res_AYT)\n",
    "\n",
    "# Percentage shared putative Neanderthal blocks between Papuan & Ayta\n",
    "shared_NEA_PAPvsAYT"
   ]
  },
  {
   "cell_type": "code",
   "execution_count": null,
   "metadata": {},
   "outputs": [],
   "source": [
    "# Number shared putative Neanderthal blocks\n",
    "np.sum(((D3_res_PAP[:,2] >= 3) & (D4_res_PAP[:,0] < 0) == True) & ((D3_res_AYT[:,2] >= 3) & (D4_res_AYT[:,0] < 0) == True))"
   ]
  },
  {
   "cell_type": "code",
   "execution_count": null,
   "metadata": {},
   "outputs": [],
   "source": [
    "# Number shared putative Denisovan blocks\n",
    "np.sum(((D1_res_PAP[:,2] >= 3) & (D2_res_PAP[:,0] > 0) == True) & ((D1_res_AYT[:,2] >= 3) & (D2_res_AYT[:,0] > 0) == True))"
   ]
  },
  {
   "cell_type": "code",
   "execution_count": null,
   "metadata": {},
   "outputs": [],
   "source": [
    "# Percentage shared putative Neanderthal blocks between Papuan & Ayta\n",
    "shared_DEN_PAPvsAYT"
   ]
  },
  {
   "cell_type": "code",
   "execution_count": null,
   "metadata": {},
   "outputs": [],
   "source": [
    "# Number putative Neanderthal blocks in Ayta\n",
    "putative_NEA_AYT"
   ]
  },
  {
   "cell_type": "code",
   "execution_count": null,
   "metadata": {},
   "outputs": [],
   "source": [
    "putative_NEA_PAP"
   ]
  },
  {
   "cell_type": "code",
   "execution_count": null,
   "metadata": {},
   "outputs": [],
   "source": [
    "putative_DEN_AYT"
   ]
  },
  {
   "cell_type": "code",
   "execution_count": null,
   "metadata": {},
   "outputs": [],
   "source": [
    "putative_DEN_PAP"
   ]
  },
  {
   "cell_type": "code",
   "execution_count": null,
   "metadata": {},
   "outputs": [],
   "source": [
    "# plot percentage shared blocks in population comparison\n",
    "\n",
    "def plot_shared_blocks(shared_NEA, shared_DEN, title=None):\n",
    "    x = ['Neanderthal','Denisovan']\n",
    "    y = [shared_NEA,shared_DEN]\n",
    "    fig, ax = plt.subplots(figsize=(9, 8))\n",
    "    sns.despine(ax=ax, offset=10)\n",
    "    ax.plot(x, y, 'ro')\n",
    "    ax.set(ylim=(0, 25))\n",
    "    ax.set_xlabel('Archaic population')\n",
    "    ax.set_ylabel('Percentage shared putative tracts')\n",
    "    if title:\n",
    "        ax.set_title(title)     \n",
    "\n",
    "plot_shared_blocks(shared_NEA_PAPvsAYT, shared_DEN_PAPvsAYT, title='Percentage shared putative tracts between Papuan and Ayta')"
   ]
  },
  {
   "cell_type": "code",
   "execution_count": null,
   "metadata": {},
   "outputs": [],
   "source": [
    "# function to check how many blocks per population are being assigned both Neanderthal AND Denisovan in the two sets of tests\n",
    "# Should be 0 for both populations!\n",
    "\n",
    "def check_mis_ID(D1_res_PAP, D2_res_PAP, D3_res_PAP, D4_res_PAP, D1_res_AYT, D2_res_AYT, D3_res_AYT, D4_res_AYT):\n",
    "    put_DEN_PAP = (D1_res_PAP[:,2] >= 3) & (D2_res_PAP[:,0] > 0)\n",
    "    put_NEA_PAP = (D3_res_PAP[:,2] >= 3) & (D4_res_PAP[:,0] < 0)\n",
    "    mis_ID_PAP = np.sum((put_NEA_PAP == True) & (put_DEN_PAP == True))\n",
    "    put_DEN_AYT = (D1_res_AYT[:,2] >= 3) & (D2_res_AYT[:,0] > 0)\n",
    "    put_NEA_AYT = (D3_res_AYT[:,2] >= 3) & (D4_res_AYT[:,0] < 0)\n",
    "    mis_ID_AYT = np.sum((put_NEA_AYT == True) & (put_DEN_AYT == True))\n",
    "    return mis_ID_PAP, mis_ID_AYT\n",
    "\n",
    "Papuan_mis_ID, Ayta_mis_ID = check_mis_ID(D1_res_PAP, D2_res_PAP, D3_res_PAP, D4_res_PAP, D1_res_AYT, D2_res_AYT, D3_res_AYT, D4_res_AYT)\n",
    "\n",
    "#Papuan_mis_ID\n",
    "Papuan_mis_ID"
   ]
  },
  {
   "cell_type": "code",
   "execution_count": null,
   "metadata": {},
   "outputs": [],
   "source": [
    "#Papuan_mis_ID\n",
    "Ayta_mis_ID"
   ]
  }
 ],
 "metadata": {
  "kernelspec": {
   "display_name": "Python 3",
   "language": "python",
   "name": "python3"
  },
  "language_info": {
   "codemirror_mode": {
    "name": "ipython",
    "version": 3
   },
   "file_extension": ".py",
   "mimetype": "text/x-python",
   "name": "python",
   "nbconvert_exporter": "python",
   "pygments_lexer": "ipython3",
   "version": "3.6.7"
  }
 },
 "nbformat": 4,
 "nbformat_minor": 2
}
